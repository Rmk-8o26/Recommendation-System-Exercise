{
 "cells": [
  {
   "cell_type": "markdown",
   "metadata": {},
   "source": [
    "# Objective : Learning the process of identifying most discriminative words using Gini Index\n",
    "## Question :\n",
    "### 1. Create a hypothetical document data set consisting of 8 documents and 10 keywords assuming there are three possible ratings and the keywords have frequencies 0,1 and 2\n",
    "### 2. Print the indices of the first 5 most discriminative words\n",
    "### 3. Print the TFD corresponding the the discriminative words"
   ]
  },
  {
   "cell_type": "code",
   "execution_count": 1,
   "metadata": {},
   "outputs": [],
   "source": [
    "import numpy as np\n",
    "n_docs=8 # number of documents\n",
    "n_kwds=10 # number of keywords in each document\n",
    "n_rts=3 # number of possible ratings\n",
    "k=n_docs*n_kwds # total number of elements in the TDF matrix  (Term-Document-Frequency matrix)\n",
    "sim_1d=np.random.choice(3, k) # gives 80 randomly obtained numbers from 0,1,2\n",
    "#sim_1d\n"
   ]
  },
  {
   "cell_type": "code",
   "execution_count": 2,
   "metadata": {},
   "outputs": [
    {
     "data": {
      "text/plain": [
       "array([[2, 0, 0, 1, 0, 0, 1, 2, 1, 0],\n",
       "       [1, 0, 2, 0, 0, 0, 1, 0, 0, 1],\n",
       "       [1, 0, 1, 1, 1, 0, 0, 1, 2, 0],\n",
       "       [2, 2, 2, 2, 1, 0, 2, 0, 0, 2],\n",
       "       [2, 0, 1, 0, 0, 0, 1, 0, 2, 2],\n",
       "       [2, 1, 0, 1, 0, 0, 2, 0, 2, 0],\n",
       "       [1, 1, 2, 0, 0, 2, 1, 1, 2, 2],\n",
       "       [0, 2, 2, 1, 0, 1, 2, 2, 1, 1]])"
      ]
     },
     "execution_count": 2,
     "metadata": {},
     "output_type": "execute_result"
    }
   ],
   "source": [
    "sim_d2=sim_1d.reshape(n_docs,n_kwds) # coversion of 1d-frequencies to matrix form\n",
    "sim_d2 # displaying the matrix\n"
   ]
  },
  {
   "cell_type": "code",
   "execution_count": 3,
   "metadata": {},
   "outputs": [
    {
     "data": {
      "text/plain": [
       "array([1, 2, 0, 2, 2, 2, 2, 0])"
      ]
     },
     "execution_count": 3,
     "metadata": {},
     "output_type": "execute_result"
    }
   ],
   "source": [
    "sim_ratings=np.random.choice(n_rts,n_docs)\n",
    "sim_ratings\n"
   ]
  },
  {
   "cell_type": "markdown",
   "metadata": {},
   "source": [
    "## Computing Gini Indices\n",
    "### Creation of 1-d array to store GI values"
   ]
  },
  {
   "cell_type": "code",
   "execution_count": 4,
   "metadata": {},
   "outputs": [
    {
     "data": {
      "text/plain": [
       "array([0., 0., 0., 0., 0., 0., 0., 0., 0., 0.])"
      ]
     },
     "execution_count": 4,
     "metadata": {},
     "output_type": "execute_result"
    }
   ],
   "source": [
    "gi=np.zeros(n_kwds)  # initialized an array for storing gini indices\n",
    "gi\n"
   ]
  },
  {
   "cell_type": "code",
   "execution_count": 5,
   "metadata": {},
   "outputs": [
    {
     "name": "stdout",
     "output_type": "stream",
     "text": [
      "Gini Index values are [0.44897959 0.375      0.44444444 0.64       0.5        0.5\n",
      " 0.44897959 0.625      0.61111111 0.32      ]\n"
     ]
    }
   ],
   "source": [
    "for j in range(10): # Running through the columns\n",
    "    doc_list=[] # initialization for every keyword to store the indices of documents\n",
    "    for i in range(8): # Running throug the rows\n",
    "        if (sim_d2[i,j]!=0): # checking the occurrence of  the jth keyword in ith document\n",
    "            doc_list.append(i)\n",
    "            #print('keyword ...',j) # todispplay the keyword index\n",
    "            # #print(doc_list) # to display the list of document\n",
    "            # #print(sim_ratings[doc_list]) # to display the corresponding rating\n",
    "    rt_arr=sim_ratings[doc_list]\n",
    "    u,c=np.unique(rt_arr,return_counts=True)\n",
    "    #print('Frequencies are',c)\n",
    "    p=c/sum(c)\n",
    "    #print('Probabilities are',p)\n",
    "    gi[j]=1-sum(p*p)\n",
    "    # print('----------------')\n",
    "print('Gini Index values are',gi)\n"
   ]
  },
  {
   "cell_type": "markdown",
   "metadata": {},
   "source": [
    "### Listing the first 5 most discriminative keywords"
   ]
  },
  {
   "cell_type": "code",
   "execution_count": 6,
   "metadata": {},
   "outputs": [
    {
     "name": "stdout",
     "output_type": "stream",
     "text": [
      "Indices of the  first 5 most discriminative keywords are [9 1 2 0 6]\n"
     ]
    }
   ],
   "source": [
    "indices=np.argsort(gi) # indices of the sorted values\n",
    "print('Indices of the  first 5 most discriminative keywords are',  indices[0:5] )\n"
   ]
  },
  {
   "cell_type": "markdown",
   "metadata": {},
   "source": [
    "### Printing the TFD for the most discriminativewords"
   ]
  },
  {
   "cell_type": "code",
   "execution_count": 7,
   "metadata": {},
   "outputs": [
    {
     "name": "stdout",
     "output_type": "stream",
     "text": [
      "[[0 0 0 2 1]\n",
      " [1 0 2 1 1]\n",
      " [0 0 1 1 0]\n",
      " [2 2 2 2 2]\n",
      " [2 0 1 2 1]\n",
      " [0 1 0 2 2]\n",
      " [2 1 2 1 1]\n",
      " [1 2 2 0 2]]\n"
     ]
    }
   ],
   "source": [
    "print(sim_d2[:,indices[0:5]])\n"
   ]
  },
  {
   "cell_type": "markdown",
   "metadata": {},
   "source": [
    "### Conclusion\n",
    "#### The indices of the first 5 most discriminative words using GI are [2 5 1 3 4]"
   ]
  },
  {
   "cell_type": "code",
   "execution_count": null,
   "metadata": {},
   "outputs": [],
   "source": []
  }
 ],
 "metadata": {
  "kernelspec": {
   "display_name": "base",
   "language": "python",
   "name": "python3"
  },
  "language_info": {
   "codemirror_mode": {
    "name": "ipython",
    "version": 3
   },
   "file_extension": ".py",
   "mimetype": "text/x-python",
   "name": "python",
   "nbconvert_exporter": "python",
   "pygments_lexer": "ipython3",
   "version": "3.11.7"
  }
 },
 "nbformat": 4,
 "nbformat_minor": 2
}
