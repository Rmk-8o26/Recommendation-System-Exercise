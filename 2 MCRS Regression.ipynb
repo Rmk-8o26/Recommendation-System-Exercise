{
 "cells": [
  {
   "cell_type": "markdown",
   "metadata": {},
   "source": [
    "# Objective : Using Linear Regression in developing MBCF \n",
    "## Problem : Build the MBCF for the following\n",
    "### hypothetical data using multiple linearregression\n",
    "\n",
    "### 3,2,1\n",
    "### ?,1,2\n",
    "### 1,1,4\n",
    "### 3,?,2\n",
    "### 4,2,1\n",
    "### 1,2,3\n",
    "### 2,3,1\n",
    "### 3,2,?\n",
    "\n",
    "### Develop Linear Regression Models to estimate all the missing ratings\n",
    "\n",
    "### Building Model $M_1$ for estimating the rating for item-1:\n",
    "\n",
    "### Here the response variable will be the first column and the regressors will be remaining"
   ]
  },
  {
   "cell_type": "code",
   "execution_count": 3,
   "metadata": {},
   "outputs": [],
   "source": [
    "import pandas as pd\n",
    "import statsmodels.api as sm\n"
   ]
  },
  {
   "cell_type": "code",
   "execution_count": 4,
   "metadata": {},
   "outputs": [],
   "source": [
    "df=pd.DataFrame([[3.0,2.0,1.0],[1.0,1.0,4.0],[4.0,2.0,1.0],[1.0,2.0,3.0],[2.0,3.0,1.0]])\n",
    "X=df.iloc[:,[1,2]]\n",
    "y=df.iloc[:,0]\n",
    "X=sm.add_constant(X)\n",
    "model1=sm.OLS(y,X).fit()\n"
   ]
  },
  {
   "cell_type": "code",
   "execution_count": 5,
   "metadata": {},
   "outputs": [
    {
     "data": {
      "text/plain": [
       "0    3.0\n",
       "1    1.0\n",
       "2    3.0\n",
       "3    1.0\n",
       "4    2.0\n",
       "dtype: float64"
      ]
     },
     "execution_count": 5,
     "metadata": {},
     "output_type": "execute_result"
    }
   ],
   "source": [
    "import numpy as np\n",
    "np.round(model1.predict(X))\n"
   ]
  },
  {
   "cell_type": "markdown",
   "metadata": {},
   "source": [
    "## Building Model  $M_2$ for estimating the rating for item-2; Here we take the second column as responseand the others as regressors"
   ]
  },
  {
   "cell_type": "code",
   "execution_count": 6,
   "metadata": {},
   "outputs": [],
   "source": [
    "X=df.iloc[:,[0,2]]\n",
    "y=df.iloc[:,1]\n",
    "X=sm.add_constant(X)\n",
    "model2=sm.OLS(y,X).fit()\n"
   ]
  },
  {
   "cell_type": "markdown",
   "metadata": {},
   "source": [
    "## Building Model $M_3$  for estimating the rating for item-3; Here we take the third column as response and the others as regressors"
   ]
  },
  {
   "cell_type": "code",
   "execution_count": 7,
   "metadata": {},
   "outputs": [],
   "source": [
    "X=df.iloc[:,[0,1]]\n",
    "y=df.iloc[:,2]\n",
    "X=sm.add_constant(X)\n",
    "model3=sm.OLS(y,X).fit()\n"
   ]
  },
  {
   "cell_type": "markdown",
   "metadata": {},
   "source": [
    "## Predicting $r_{21}$ we use the model $M_1$"
   ]
  },
  {
   "cell_type": "code",
   "execution_count": 8,
   "metadata": {},
   "outputs": [
    {
     "name": "stdout",
     "output_type": "stream",
     "text": [
      "The predicted rating  is  [3.62857143]\n"
     ]
    }
   ],
   "source": [
    "import numpy as np\n",
    "print(\"The predicted rating  is \",model1.predict(np.array([[1,1,2]])[0]))\n"
   ]
  },
  {
   "cell_type": "markdown",
   "metadata": {},
   "source": [
    "## Predicting $r_{42}$ we use the model $M_2$"
   ]
  },
  {
   "cell_type": "code",
   "execution_count": 9,
   "metadata": {},
   "outputs": [
    {
     "name": "stdout",
     "output_type": "stream",
     "text": [
      "The predicted rating  is  [1.56521739]\n"
     ]
    }
   ],
   "source": [
    "print(\"The predicted rating  is \",model2.predict(np.array([[1,3,2]])[0]))\n"
   ]
  },
  {
   "cell_type": "markdown",
   "metadata": {},
   "source": [
    "## Predicting $r_{83}$  we use the model $M_3$"
   ]
  },
  {
   "cell_type": "code",
   "execution_count": 10,
   "metadata": {},
   "outputs": [
    {
     "name": "stdout",
     "output_type": "stream",
     "text": [
      "The predicted rating  is  [1.42857143]\n"
     ]
    }
   ],
   "source": [
    "print(\"The predicted rating  is \",model3.predict(np.array([[1,3,2]])[0]))\n"
   ]
  },
  {
   "cell_type": "markdown",
   "metadata": {},
   "source": [
    "### Conclusion:\n",
    "### $r_{21}$ is 3.62\n",
    "### $r_{42}$ is 1.56\n",
    "### $r_{83}$ is 1.42"
   ]
  },
  {
   "cell_type": "code",
   "execution_count": null,
   "metadata": {},
   "outputs": [],
   "source": []
  }
 ],
 "metadata": {
  "kernelspec": {
   "display_name": "base",
   "language": "python",
   "name": "python3"
  },
  "language_info": {
   "codemirror_mode": {
    "name": "ipython",
    "version": 3
   },
   "file_extension": ".py",
   "mimetype": "text/x-python",
   "name": "python",
   "nbconvert_exporter": "python",
   "pygments_lexer": "ipython3",
   "version": "3.11.7"
  }
 },
 "nbformat": 4,
 "nbformat_minor": 2
}
