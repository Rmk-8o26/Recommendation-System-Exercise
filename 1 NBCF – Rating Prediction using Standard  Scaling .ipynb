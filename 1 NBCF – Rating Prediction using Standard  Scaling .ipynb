{
 "cells": [
  {
   "cell_type": "markdown",
   "metadata": {},
   "source": [
    "# Objective : Learning the process of identifying mostsimilar users using standardized ratings\n",
    "## Problem : Given below, the raw scores for 5 users.x\n",
    "### User-1 : 7,6,7,4,5,4\n",
    "### User-2 : 6,7,?,4,3,4\n",
    "### User-3 : ?,3,3,1,1,?\n",
    "### User-4 : 1,2,2,3,3,4\n",
    "### User-5 : 1,?,1,2,3,3\n",
    "### a. Obtain the standardized ratings\n",
    "### b. Find the top-2 most similar users for user 3\n",
    "### c. Estimate r(3,6)"
   ]
  },
  {
   "cell_type": "code",
   "execution_count": 1,
   "metadata": {},
   "outputs": [],
   "source": [
    "#Step-1: Computing Standardized Ratings\n"
   ]
  },
  {
   "cell_type": "code",
   "execution_count": 2,
   "metadata": {},
   "outputs": [],
   "source": [
    "import numpy as np\n"
   ]
  },
  {
   "cell_type": "code",
   "execution_count": 3,
   "metadata": {},
   "outputs": [
    {
     "name": "stdout",
     "output_type": "stream",
     "text": [
      "5.5\n"
     ]
    },
    {
     "data": {
      "text/plain": [
       "array([ 1.08821438,  0.36273813,  1.08821438, -1.08821438, -0.36273813,\n",
       "       -1.08821438])"
      ]
     },
     "execution_count": 3,
     "metadata": {},
     "output_type": "execute_result"
    }
   ],
   "source": [
    "raw_score=np.array([7,6,7,4,5,4])\n",
    "mn=np.mean(raw_score)\n",
    "print(mn)\n",
    "psd=np.std(raw_score)\n",
    "n=len(raw_score)\n",
    "sd=np.sqrt(psd*psd)\n",
    "sd=np.sqrt((n/(n-1)*psd*psd))\n",
    "sdsc1=(raw_score-mn)/sd\n",
    "sdsc1\n"
   ]
  },
  {
   "cell_type": "code",
   "execution_count": 4,
   "metadata": {},
   "outputs": [
    {
     "data": {
      "text/plain": [
       "array([ 0.73029674,  1.33887736, -0.4868645 , -1.09544512, -0.4868645 ])"
      ]
     },
     "execution_count": 4,
     "metadata": {},
     "output_type": "execute_result"
    }
   ],
   "source": [
    "raw_score=np.array([6,7,4,3,4])\n",
    "mn=np.mean(raw_score)\n",
    "psd=np.std(raw_score)\n",
    "n=len(raw_score)\n",
    "sd=np.sqrt((n/(n-1)*psd*psd))\n",
    "sdsc2=(raw_score-mn)/sd\n",
    "sdsc2\n"
   ]
  },
  {
   "cell_type": "code",
   "execution_count": 5,
   "metadata": {},
   "outputs": [
    {
     "data": {
      "text/plain": [
       "array([ 0.8660254,  0.8660254, -0.8660254, -0.8660254])"
      ]
     },
     "execution_count": 5,
     "metadata": {},
     "output_type": "execute_result"
    }
   ],
   "source": [
    "raw_score=np.array([3,3,1,1])\n",
    "mn=np.mean(raw_score)\n",
    "psd=np.std(raw_score)\n",
    "n=len(raw_score)\n",
    "sd=np.sqrt((n/(n-1)*psd*psd))\n",
    "sdsc3=(raw_score-mn)/sd\n",
    "sdsc3\n"
   ]
  },
  {
   "cell_type": "code",
   "execution_count": 6,
   "metadata": {},
   "outputs": [
    {
     "data": {
      "text/plain": [
       "array([-1.43019388, -0.47673129, -0.47673129,  0.47673129,  0.47673129,\n",
       "        1.43019388])"
      ]
     },
     "execution_count": 6,
     "metadata": {},
     "output_type": "execute_result"
    }
   ],
   "source": [
    "raw_score=np.array([1,2,2,3,3,4])\n",
    "mn=np.mean(raw_score)\n",
    "psd=np.std(raw_score)\n",
    "n=len(raw_score)\n",
    "sd=np.sqrt((n/(n-1)*psd*psd))\n",
    "sdsc4=(raw_score-mn)/sd\n",
    "sdsc4\n"
   ]
  },
  {
   "cell_type": "code",
   "execution_count": 7,
   "metadata": {},
   "outputs": [
    {
     "data": {
      "text/plain": [
       "array([-1., -1.,  0.,  1.,  1.])"
      ]
     },
     "execution_count": 7,
     "metadata": {},
     "output_type": "execute_result"
    }
   ],
   "source": [
    "raw_score=np.array([1,1,2,3,3])\n",
    "mn=np.mean(raw_score)\n",
    "psd=np.std(raw_score)\n",
    "n=len(raw_score)\n",
    "sd=np.sqrt((n/(n-1)*psd*psd))\n",
    "sdsc5=(raw_score-mn)/sd\n",
    "sdsc5\n"
   ]
  },
  {
   "cell_type": "code",
   "execution_count": 8,
   "metadata": {},
   "outputs": [],
   "source": [
    "#Step-2 : Computing similarities between user-3 and\n"
   ]
  },
  {
   "cell_type": "code",
   "execution_count": 9,
   "metadata": {},
   "outputs": [
    {
     "name": "stdout",
     "output_type": "stream",
     "text": [
      "0.8944271922327987\n"
     ]
    }
   ],
   "source": [
    "r1= np.array([0.36273813,  1.08821438, -1.08821438, -0.36273813])\n",
    "r2=np.array([ 0.8660254,  0.8660254, -0.8660254, -0.8660254])\n",
    "nr=sum(r1*r2)\n",
    "dr=np.sqrt(sum(r1*r1)*sum(r2*r2))\n",
    "s_3_1=nr/dr\n",
    "print(s_3_1)\n"
   ]
  },
  {
   "cell_type": "code",
   "execution_count": 10,
   "metadata": {},
   "outputs": [
    {
     "name": "stdout",
     "output_type": "stream",
     "text": [
      "0.9384742654090402\n"
     ]
    }
   ],
   "source": [
    "r1= np.array([ 1.33887736, -0.4868645 , -1.09544512])\n",
    "r2=np.array([ 0.8660254,  -0.8660254, -0.8660254])\n",
    "nr=sum(r1*r2)\n",
    "dr=np.sqrt(sum(r1*r1)*sum(r2*r2))\n",
    "s_3_2=nr/dr\n",
    "print(s_3_2)\n"
   ]
  },
  {
   "cell_type": "code",
   "execution_count": 11,
   "metadata": {},
   "outputs": [
    {
     "name": "stdout",
     "output_type": "stream",
     "text": [
      "-1.0\n"
     ]
    }
   ],
   "source": [
    "r1=np.array([-0.47673129, -0.47673129,  0.47673129,  0.47673129])\n",
    "r2=np.array([0.8660254, 0.8660254,  -0.8660254, -0.8660254])\n",
    "nr=sum(r1*r2)\n",
    "dr=np.sqrt(sum(r1*r1)*sum(r2*r2))\n",
    "s_3_4=nr/dr\n",
    "print(s_3_4)\n"
   ]
  },
  {
   "cell_type": "code",
   "execution_count": 12,
   "metadata": {},
   "outputs": [
    {
     "name": "stdout",
     "output_type": "stream",
     "text": [
      "-0.816496580927726\n"
     ]
    }
   ],
   "source": [
    "r1=np.array([ 0.8660254, -0.8660254, -0.8660254])\n",
    "r2=np.array([-1,0,1])\n",
    "nr=sum(r1*r2)\n",
    "dr=np.sqrt(sum(r1*r1)*sum(r2*r2))\n",
    "s_3_5=nr/dr\n",
    "print(s_3_5)\n"
   ]
  },
  {
   "cell_type": "markdown",
   "metadata": {},
   "source": [
    "## The top-2 most similar users for user 3 are 1 and 2 whose standarized-ratings for item 6 are -0.4868645 and -1.08821438"
   ]
  },
  {
   "cell_type": "code",
   "execution_count": 13,
   "metadata": {},
   "outputs": [
    {
     "name": "stdout",
     "output_type": "stream",
     "text": [
      "Estimated rating is  1.0989712183326192\n"
     ]
    }
   ],
   "source": [
    "import numpy as np\n",
    "raw_score=np.array([3,3,1,1])\n",
    "mu_3=np.mean(raw_score)\n",
    "psd=np.std(raw_score)\n",
    "n=len(raw_score)\n",
    "sd=np.sqrt(psd*psd)\n",
    "sd=np.sqrt((n/(n-1)*psd*psd))\n",
    "r36_hat=mu_3+sd*((s_3_1*sdsc1[5]+s_3_2*sdsc2[4])/(s_3_1+s_3_2))\n",
    "print(\"Estimated rating is \",r36_hat)\n"
   ]
  },
  {
   "cell_type": "markdown",
   "metadata": {},
   "source": [
    "# Conclusion: r(3,6) is 1.09"
   ]
  },
  {
   "cell_type": "code",
   "execution_count": null,
   "metadata": {},
   "outputs": [],
   "source": []
  }
 ],
 "metadata": {
  "kernelspec": {
   "display_name": "base",
   "language": "python",
   "name": "python3"
  },
  "language_info": {
   "codemirror_mode": {
    "name": "ipython",
    "version": 3
   },
   "file_extension": ".py",
   "mimetype": "text/x-python",
   "name": "python",
   "nbconvert_exporter": "python",
   "pygments_lexer": "ipython3",
   "version": "3.11.7"
  }
 },
 "nbformat": 4,
 "nbformat_minor": 2
}
