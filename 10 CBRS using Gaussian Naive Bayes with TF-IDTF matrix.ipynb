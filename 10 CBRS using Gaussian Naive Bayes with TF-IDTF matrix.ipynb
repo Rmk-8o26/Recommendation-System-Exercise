{
 "cells": [
  {
   "cell_type": "markdown",
   "metadata": {},
   "source": [
    "# Objective : Learning the implementation of CBRSusing TF-IDTF matrix\n",
    "## Problem\n",
    "### 1. Create the TF-IDTF matrix for the music recommender example data given below:\n",
    "#### sg1='drums,guitar,beat'\n",
    "#### sg2='drums,guitar,orchestra'\n",
    "#### sg3='guitar,beat'\n",
    "#### sg4='classical,symphony,orchestra'\n",
    "#### sg5='guitar,classical,orchestra'\n",
    "#### sg6='classical,symphony'\n",
    "### whose ratings are 0,0,0,1,1,1\n",
    "\n",
    "### 2. Predict the ratings corresponding to the followingtest documents using Gaussian Naive Bayes\n",
    "#### t1='classical'\n",
    "#### t2='drums,beat'\n",
    "\n",
    "\n",
    "### Step 1: Create documents"
   ]
  },
  {
   "cell_type": "code",
   "execution_count": 1,
   "metadata": {},
   "outputs": [],
   "source": [
    "sg1='drums,guitar,beat'\n",
    "sg2='drums,guitar,orchestra'\n",
    "sg3='guitar,beat'\n",
    "sg4='classical,symphony,orchestra'\n",
    "sg5='guitar,classical,orchestra'\n",
    "sg6='classical,symphony'\n"
   ]
  },
  {
   "cell_type": "markdown",
   "metadata": {},
   "source": [
    "### Step 2 : Merge the documents to a create a single corpus"
   ]
  },
  {
   "cell_type": "code",
   "execution_count": 3,
   "metadata": {},
   "outputs": [
    {
     "data": {
      "text/plain": [
       "['drums,guitar,beat',\n",
       " 'drums,guitar,orchestra',\n",
       " 'guitar,beat',\n",
       " 'classical,symphony,orchestra',\n",
       " 'guitar,classical,orchestra',\n",
       " 'classical,symphony']"
      ]
     },
     "execution_count": 3,
     "metadata": {},
     "output_type": "execute_result"
    }
   ],
   "source": [
    "corpus=[sg1,sg2,sg3,sg4,sg5,sg6]\n",
    "corpus\n"
   ]
  },
  {
   "cell_type": "markdown",
   "metadata": {},
   "source": [
    "### Step 3: Import the library"
   ]
  },
  {
   "cell_type": "code",
   "execution_count": 4,
   "metadata": {},
   "outputs": [],
   "source": [
    "from sklearn.feature_extraction.text import TfidfVectorizer\n",
    "tfidf=TfidfVectorizer()\n"
   ]
  },
  {
   "cell_type": "markdown",
   "metadata": {},
   "source": [
    "### Step 4: TF-IDTF matrix creation"
   ]
  },
  {
   "cell_type": "code",
   "execution_count": 5,
   "metadata": {},
   "outputs": [
    {
     "name": "stdout",
     "output_type": "stream",
     "text": [
      "  (0, 2)\t0.6295144072887034\n",
      "  (0, 3)\t0.45543739639154\n",
      "  (0, 0)\t0.6295144072887034\n",
      "  (1, 2)\t0.668719891595794\n",
      "  (1, 3)\t0.48380155055600843\n",
      "  (1, 4)\t0.5645792825314363\n",
      "  (2, 3)\t0.5861569567966913\n",
      "  (2, 0)\t0.8101975203608325\n",
      "  (3, 4)\t0.5420919460564738\n",
      "  (3, 1)\t0.5420919460564738\n",
      "  (3, 5)\t0.642084608164228\n",
      "  (4, 3)\t0.5182242665631911\n",
      "  (4, 4)\t0.6047493735197427\n",
      "  (4, 1)\t0.6047493735197427\n",
      "  (5, 1)\t0.6451024322949592\n",
      "  (5, 5)\t0.764096101185661\n"
     ]
    }
   ],
   "source": [
    "result=tfidf.fit_transform(corpus)\n",
    "print(result) # viewing the sparse representation\n"
   ]
  },
  {
   "cell_type": "code",
   "execution_count": 6,
   "metadata": {},
   "outputs": [
    {
     "name": "stdout",
     "output_type": "stream",
     "text": [
      "[[0.62951441 0.         0.62951441 0.4554374  0.         0.        ]\n",
      " [0.         0.         0.66871989 0.48380155 0.56457928 0.        ]\n",
      " [0.81019752 0.         0.         0.58615696 0.         0.        ]\n",
      " [0.         0.54209195 0.         0.         0.54209195 0.64208461]\n",
      " [0.         0.60474937 0.         0.51822427 0.60474937 0.        ]\n",
      " [0.         0.64510243 0.         0.         0.         0.7640961 ]]\n"
     ]
    }
   ],
   "source": [
    "print(result.toarray()) # to see the matrix representation\n"
   ]
  },
  {
   "cell_type": "markdown",
   "metadata": {},
   "source": [
    "### Step-5 : Predicting the outcomes of test documents\n",
    "#### TF_IDTF matrix creation for the the training_test data"
   ]
  },
  {
   "cell_type": "code",
   "execution_count": 7,
   "metadata": {},
   "outputs": [],
   "source": [
    "t1='classical'\n",
    "t2='drums,beat'\n",
    "corpus=[sg1,sg2,sg3,sg4,sg5,sg6,t1,t2]\n",
    "#corpus\n"
   ]
  },
  {
   "cell_type": "code",
   "execution_count": 8,
   "metadata": {},
   "outputs": [],
   "source": [
    "result=tfidf.fit_transform(corpus)\n",
    "#print(result)\n"
   ]
  },
  {
   "cell_type": "markdown",
   "metadata": {},
   "source": [
    "#### Creation of training data and target values"
   ]
  },
  {
   "cell_type": "code",
   "execution_count": 9,
   "metadata": {},
   "outputs": [],
   "source": [
    "X=result.toarray()\n",
    "X_train=X[0:6,]\n",
    "y=[0,0,0,1,1,1]\n"
   ]
  },
  {
   "cell_type": "markdown",
   "metadata": {},
   "source": [
    "### Step-6 : Building Gaussian Naive Bayes model"
   ]
  },
  {
   "cell_type": "code",
   "execution_count": 10,
   "metadata": {},
   "outputs": [],
   "source": [
    "from sklearn.naive_bayes import GaussianNB\n",
    "clf=GaussianNB()\n",
    "model=clf.fit(X_train,y)\n"
   ]
  },
  {
   "cell_type": "markdown",
   "metadata": {},
   "source": [
    "#### Prediction for training data"
   ]
  },
  {
   "cell_type": "code",
   "execution_count": 11,
   "metadata": {},
   "outputs": [
    {
     "data": {
      "text/plain": [
       "array([0, 0, 0, 1, 1, 1])"
      ]
     },
     "execution_count": 11,
     "metadata": {},
     "output_type": "execute_result"
    }
   ],
   "source": [
    "model.predict(X_train)\n"
   ]
  },
  {
   "cell_type": "markdown",
   "metadata": {},
   "source": [
    "#### Prediction for test data"
   ]
  },
  {
   "cell_type": "code",
   "execution_count": 12,
   "metadata": {},
   "outputs": [
    {
     "data": {
      "text/plain": [
       "array([[0.        , 1.        , 0.        , 0.        , 0.        ,\n",
       "        0.        ],\n",
       "       [0.70710678, 0.        , 0.70710678, 0.        , 0.        ,\n",
       "        0.        ]])"
      ]
     },
     "execution_count": 12,
     "metadata": {},
     "output_type": "execute_result"
    }
   ],
   "source": [
    "X_test=X[6:,] # slicing of test data\n",
    "X_test\n"
   ]
  },
  {
   "cell_type": "code",
   "execution_count": 13,
   "metadata": {},
   "outputs": [
    {
     "data": {
      "text/plain": [
       "array([1, 0])"
      ]
     },
     "execution_count": 13,
     "metadata": {},
     "output_type": "execute_result"
    }
   ],
   "source": [
    "model.predict(X_test)\n"
   ]
  },
  {
   "cell_type": "markdown",
   "metadata": {},
   "source": [
    "## Conclusion : Outcomes will be Like and Dislike forTest1 and Test2"
   ]
  },
  {
   "cell_type": "code",
   "execution_count": null,
   "metadata": {},
   "outputs": [],
   "source": []
  }
 ],
 "metadata": {
  "kernelspec": {
   "display_name": "base",
   "language": "python",
   "name": "python3"
  },
  "language_info": {
   "codemirror_mode": {
    "name": "ipython",
    "version": 3
   },
   "file_extension": ".py",
   "mimetype": "text/x-python",
   "name": "python",
   "nbconvert_exporter": "python",
   "pygments_lexer": "ipython3",
   "version": "3.11.7"
  }
 },
 "nbformat": 4,
 "nbformat_minor": 2
}
